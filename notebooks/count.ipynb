{
 "cells": [
  {
   "cell_type": "code",
   "execution_count": 2,
   "metadata": {
    "collapsed": true,
    "pycharm": {
     "name": "#%%\n"
    }
   },
   "outputs": [],
   "source": [
    "import os\n",
    "from pathlib import Path\n",
    "import json\n",
    "from collections import defaultdict, OrderedDict\n",
    "import pandas as pd"
   ]
  },
  {
   "cell_type": "code",
   "execution_count": 3,
   "outputs": [],
   "source": [
    "cards_by_type = {}\n",
    "pathlist = Path(\"../data/\").glob('*.js')\n",
    "for path in pathlist:\n",
    "    card_type = path.parts[-1][0:-3].replace(\"-\", \"_\")\n",
    "    cards_by_type[card_type] = json.load(open(path))"
   ],
   "metadata": {
    "collapsed": false,
    "pycharm": {
     "name": "#%%\n"
    }
   }
  },
  {
   "cell_type": "code",
   "execution_count": 73,
   "outputs": [
    {
     "name": "stdout",
     "output_type": "stream",
     "text": [
      "Image referenced by two cards: perils/and-so-it-begins-sotp.png\n",
      "Image referenced by two cards: perils/dark-schemes-sotp.png\n",
      "Image referenced by two cards: perils/distrust-sotp.png\n",
      "Image referenced by two cards: perils/explosive-assault-sotp.png\n",
      "Image referenced by two cards: perils/dangerous-brawl-sotp.png\n",
      "Image referenced by two cards: perils/breath-of-the-manticore-sotp.png\n",
      "Image referenced by two cards: perils/deadheart-powder-sotp.png\n",
      "Image referenced by two cards: perils/10000-mouths-to-feed-sotp.png\n",
      "Image referenced by two cards: perils/rising-dead-sotp.png\n",
      "Image referenced by two cards: perils/whispers-in-the-wind-sotp.png\n",
      "Image referenced by two cards: perils/enter-the-darkness-sotp.png\n",
      "Image referenced by two cards: perils/bleeding-out-sotp.png\n",
      "Image referenced by two cards: perils/the-chosen-one-sotp.png\n",
      "Image referenced by two cards: perils/pit-trap-sotp.png\n",
      "Image referenced by two cards: perils/accuracy-sotp.png\n",
      "Image referenced by two cards: perils/blood-link-sotp.png\n",
      "Image referenced by two cards: perils/blood-lust-sotp.png\n",
      "Image referenced by two cards: perils/cull-the-weak-sotp.png\n",
      "Image referenced by two cards: perils/blood-rage-sotp.png\n",
      "Image referenced by two cards: perils/divide-and-conquer-sotp.png\n",
      "Image referenced by two cards: perils/natures-wrath-sotp.png\n",
      "Image referenced by two cards: perils/shadow-binder-sotp.png\n",
      "Image referenced by two cards: perils/frozen-in-fear-sotp.png\n",
      "Image referenced by two cards: perils/shattered-defense-sotp.png\n",
      "Image referenced by two cards: perils/blood-for-blood-sotp.png\n",
      "Image referenced by two cards: perils/claimed-by-the-fire-sotp.png\n",
      "Image referenced by two cards: perils/tendrils-of-darkness-sotp.png\n",
      "Image referenced by two cards: perils/shadowborn-summoning-sotp.png\n",
      "Image referenced by two cards: perils/ynfernal-hound-sotp.png\n",
      "Image referenced by two cards: perils/assassin-squad-sotp.png\n",
      "Image referenced by two cards: perils/defeat-sotp.png\n",
      "Image referenced by two cards: perils/start-peril-sotp.png\n",
      "Image referenced by two cards: perils/minor-peril-sotp.png\n",
      "Image referenced by two cards: perils/major-peril-sotp.png\n",
      "Image referenced by two cards: perils/deadly-peril-sotp.png\n",
      "Image referenced by two cards: perils/quest-peril-sotp.png\n",
      "Image referenced by two cards: traps/broken-trap-sotp.png\n",
      "Image referenced by two cards: traps/vicious-trap-sotp.png\n",
      "Image referenced by two cards: traps/skeletal-grip-sotp.png\n",
      "Image referenced by two cards: traps/black-spider-sotp.png\n",
      "Image referenced by two cards: traps/animated-vines-sotp.png\n",
      "Image referenced by two cards: traps/spear-trap-sotp.png\n",
      "Image referenced by two cards: traps/insulation-field-sotp.png\n",
      "Image referenced by two cards: traps/lightning-mesh-sotp.png\n",
      "Image referenced by two cards: traps/intellect-wail-sotp.png\n",
      "Image referenced by two cards: traps/alchemical-vapors-sotp.png\n",
      "Image referenced by two cards: traps/blood-bargain-sotp.png\n",
      "Image referenced by two cards: traps/induced-detonation-sotp.png\n",
      "Image referenced by two cards: traps/giant-vermin-sotp.png\n",
      "Image referenced by two cards: traps/phantasm-of-hate-sotp.png\n",
      "Image referenced by two cards: traps/phantasm-of-doubt-sotp.png\n",
      "Image referenced by two cards: traps/phantasm-of-foolishness-sotp.png\n",
      "Image referenced by two cards: traps/phantasm-of-beastiality-sotp.png\n",
      "Image referenced by two cards: traps/manifested-weakness-sotp.png\n",
      "Image referenced by two cards: traps/dimensional-sling-sotp.png\n",
      "Image referenced by two cards: traps/wellspring-of-plague-sotp.png\n",
      "Image referenced by two cards: traps/force-missle-sotp.png\n",
      "Image referenced by two cards: traps/tar-curio-sotp.png\n",
      "Image referenced by two cards: traps/glyph-of-summoning-sotp.png\n",
      "Image referenced by two cards: traps/mischievous-imp-sotp.png\n",
      "Image referenced by two cards: traps/soul-freeze-sotp.png\n",
      "Image referenced by two cards: traps/bear-trap-sotp.png\n",
      "Image referenced by two cards: traps/deaths-reproach-sotp.png\n",
      "Image referenced by two cards: traps/aeons-voice-sotp.png\n",
      "Image referenced by two cards: round-summary/round-summary-sotp.png\n"
     ]
    }
   ],
   "source": [
    "cards_by_image = {}\n",
    "counts_by_type = {}\n",
    "for card_type, cards in cards_by_type.items():\n",
    "    counts = defaultdict(int)\n",
    "    for card in cards:\n",
    "        image = card[\"image\"]\n",
    "        if not os.path.exists(os.path.join(\"../images/\", image)):\n",
    "            print(f\"Image not found: {image}\")\n",
    "        if image in cards_by_image:\n",
    "            print(f\"Image referenced by two cards: {image}\")\n",
    "            continue\n",
    "        cards_by_image[image] = card\n",
    "        counts[card[\"expansion\"]] += 1\n",
    "    counts_by_type[card_type] = counts\n",
    "\n",
    "df = pd.DataFrame.from_dict(counts_by_type)\n",
    "df = df.sort_index()\n",
    "df = df.reindex(sorted(df.columns), axis=1)\n",
    "df = df.fillna(0).astype(int)\n",
    "df = df.drop(index=[\"Conversion Kit\", \"Sands Of The Past\", \"Maze Of The Drakon\", \"User Community\"])\n",
    "df = df.drop(index=[\"Base Game\", \"Shadow Of Nerekhall\", \"Manor Of Ravens\"])\n",
    "df = df.drop(columns=[\"agents\"])"
   ],
   "metadata": {
    "collapsed": false,
    "pycharm": {
     "name": "#%%\n"
    }
   }
  },
  {
   "cell_type": "code",
   "execution_count": 74,
   "outputs": [
    {
     "name": "stdout",
     "output_type": "stream",
     "text": [
      "unreferenced image round-summary/round-summary-sotp-back.png\n"
     ]
    }
   ],
   "source": [
    "for image_path in Path(\"../images\").glob(\"**/*.png\"):\n",
    "    p = \"/\".join(image_path.parts[2:])\n",
    "    if p not in cards_by_image:\n",
    "        print(f\"unreferenced image {p}\")"
   ],
   "metadata": {
    "collapsed": false,
    "pycharm": {
     "name": "#%%\n"
    }
   }
  },
  {
   "cell_type": "code",
   "execution_count": 75,
   "outputs": [
    {
     "name": "stdout",
     "output_type": "stream",
     "text": [
      "advanced_quests: 26\n",
      "allies: 4\n",
      "ally_skills: 6\n",
      "class_familiars: 2\n",
      "class_items: 17\n",
      "class_skills: 103\n",
      "conditions: 4\n",
      "familiars: 7\n",
      "heroes: 94\n",
      "hybrid_class_skills: 53\n",
      "lieutenants: 30\n",
      "monsters: 164\n",
      "overlord_decks: 47\n",
      "plot_decks: 90\n",
      "relics: 28\n",
      "rumors: 21\n",
      "search_deck: 2\n",
      "secret_rooms: 14\n",
      "shop_items: 60\n",
      "tainted: 12\n",
      "travel_event_decks: 76\n"
     ]
    }
   ],
   "source": [
    "for card_type in df.columns:\n",
    "    s  = df[card_type].sum()\n",
    "    if s > 0:\n",
    "        print(f\"{card_type}: {s}\")"
   ],
   "metadata": {
    "collapsed": false,
    "pycharm": {
     "name": "#%%\n"
    }
   }
  },
  {
   "cell_type": "code",
   "execution_count": null,
   "outputs": [],
   "source": [],
   "metadata": {
    "collapsed": false,
    "pycharm": {
     "name": "#%%\n"
    }
   }
  }
 ],
 "metadata": {
  "kernelspec": {
   "display_name": "Python 3",
   "language": "python",
   "name": "python3"
  },
  "language_info": {
   "codemirror_mode": {
    "name": "ipython",
    "version": 2
   },
   "file_extension": ".py",
   "mimetype": "text/x-python",
   "name": "python",
   "nbconvert_exporter": "python",
   "pygments_lexer": "ipython2",
   "version": "2.7.6"
  }
 },
 "nbformat": 4,
 "nbformat_minor": 0
}